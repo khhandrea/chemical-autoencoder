{
 "cells": [
  {
   "cell_type": "markdown",
   "source": [
    "## Setup"
   ],
   "metadata": {}
  },
  {
   "cell_type": "code",
   "execution_count": 2,
   "source": [
    "import pubchempy as pcp\r\n",
    "import pandas as pd"
   ],
   "outputs": [],
   "metadata": {}
  },
  {
   "cell_type": "markdown",
   "source": [
    "## Fetch the data"
   ],
   "metadata": {}
  },
  {
   "cell_type": "code",
   "execution_count": null,
   "source": [
    "def set_activity(S):\r\n",
    "    return \"1\"\r\n",
    "\r\n",
    "data = pd.read_csv(\"./data/ask1/ask1_processed.csv\")\r\n",
    "data = pd.DataFrame(data, columns=['PUBCHEM_RESULT_TAG', 'PUBCHEM_CID', 'PUBCHEM_ACTIVITY_OUTCOME'])\r\n",
    "group = []\r\n",
    "max_len = 0\r\n",
    "total = len(data.values)\r\n",
    "for line in data.values:\r\n",
    "    c = pcp.Compound.from_cid(int(line[1]))\r\n",
    "    act = 1 if line[2] == 'Active' else 0\r\n",
    "    max_len = max(len(c.isomeric_smiles), max_len)\r\n",
    "    group.append([c.isomeric_smiles, act])\r\n",
    "    print(\"\\r Data processing...%6.3f%% (%5d/%5d), max_len : %4d\"%(\r\n",
    "        float(line[0])/total*100, line[0], total, max_len), end='')\r\n"
   ],
   "outputs": [],
   "metadata": {}
  },
  {
   "cell_type": "markdown",
   "source": [
    "## Save the data"
   ],
   "metadata": {}
  },
  {
   "cell_type": "code",
   "execution_count": 13,
   "source": [
    "df = pd.DataFrame(group)\r\n",
    "df = pd.DataFrame(group, columns=['smiles', 'index'])\r\n",
    "df.index = range(1, len(group) + 1) \r\n",
    "df.to_csv('./data/ask1/ask1_smiles.csv', encoding='euc-kr')\r\n",
    "print(df)"
   ],
   "outputs": [
    {
     "output_type": "stream",
     "name": "stdout",
     "text": [
      "                                              smiles  index\n",
      "1  CC1=CC(=NC(=N1)NC2=CC=C(C=C2)N3CCOCC3)NC4=CC5=...      1\n",
      "2  CC(=O)NC1=CC=C(C=C1)NC2=NC(=NC3=CC(=C(C=C32)OC...      1\n",
      "3  COC1=CC=C(C=C1)CCNC2=C3C(=NC(=N2)NC4=CC=C(C=C4...      1\n"
     ]
    }
   ],
   "metadata": {}
  },
  {
   "cell_type": "markdown",
   "source": [
    "## Read the data"
   ],
   "metadata": {}
  },
  {
   "cell_type": "code",
   "execution_count": 6,
   "source": [
    "df = pd.read_csv('./data/ask1/ask1_smiles.csv')\r\n",
    "# df.loc['smiles':'activation'][:]\r\n",
    "df.drop(['index'], axis=1, inplace=True)\r\n",
    "df.head() "
   ],
   "outputs": [
    {
     "output_type": "execute_result",
     "data": {
      "text/plain": [
       "                                              smiles  activation\n",
       "0  CC1=CC(=NC(=N1)NC2=CC=C(C=C2)N3CCOCC3)NC4=CC5=...           1\n",
       "1  CC(=O)NC1=CC=C(C=C1)NC2=NC(=NC3=CC(=C(C=C32)OC...           1\n",
       "2  COC1=CC=C(C=C1)CCNC2=C3C(=NC(=N2)NC4=CC=C(C=C4...           1\n",
       "3  CC1=CC(=NC(=N1)NC2=CC(=CC=C2)N(C)C)NCCC3=CC=C(...           1\n",
       "4  CC(=O)NC1=CC=C(C=C1)NC2=NC(=NC3=CC(=C(C=C32)OC...           1"
      ],
      "text/html": [
       "<div>\n",
       "<style scoped>\n",
       "    .dataframe tbody tr th:only-of-type {\n",
       "        vertical-align: middle;\n",
       "    }\n",
       "\n",
       "    .dataframe tbody tr th {\n",
       "        vertical-align: top;\n",
       "    }\n",
       "\n",
       "    .dataframe thead th {\n",
       "        text-align: right;\n",
       "    }\n",
       "</style>\n",
       "<table border=\"1\" class=\"dataframe\">\n",
       "  <thead>\n",
       "    <tr style=\"text-align: right;\">\n",
       "      <th></th>\n",
       "      <th>smiles</th>\n",
       "      <th>activation</th>\n",
       "    </tr>\n",
       "  </thead>\n",
       "  <tbody>\n",
       "    <tr>\n",
       "      <th>0</th>\n",
       "      <td>CC1=CC(=NC(=N1)NC2=CC=C(C=C2)N3CCOCC3)NC4=CC5=...</td>\n",
       "      <td>1</td>\n",
       "    </tr>\n",
       "    <tr>\n",
       "      <th>1</th>\n",
       "      <td>CC(=O)NC1=CC=C(C=C1)NC2=NC(=NC3=CC(=C(C=C32)OC...</td>\n",
       "      <td>1</td>\n",
       "    </tr>\n",
       "    <tr>\n",
       "      <th>2</th>\n",
       "      <td>COC1=CC=C(C=C1)CCNC2=C3C(=NC(=N2)NC4=CC=C(C=C4...</td>\n",
       "      <td>1</td>\n",
       "    </tr>\n",
       "    <tr>\n",
       "      <th>3</th>\n",
       "      <td>CC1=CC(=NC(=N1)NC2=CC(=CC=C2)N(C)C)NCCC3=CC=C(...</td>\n",
       "      <td>1</td>\n",
       "    </tr>\n",
       "    <tr>\n",
       "      <th>4</th>\n",
       "      <td>CC(=O)NC1=CC=C(C=C1)NC2=NC(=NC3=CC(=C(C=C32)OC...</td>\n",
       "      <td>1</td>\n",
       "    </tr>\n",
       "  </tbody>\n",
       "</table>\n",
       "</div>"
      ]
     },
     "metadata": {},
     "execution_count": 6
    }
   ],
   "metadata": {}
  },
  {
   "cell_type": "code",
   "execution_count": 5,
   "source": [
    "group = []\r\n",
    "for i in range(len(df)):\r\n",
    "    group.append([df.loc[i, 'smiles'], df.loc[i, 'activation']])\r\n",
    "print(group[:20])"
   ],
   "outputs": [
    {
     "output_type": "stream",
     "name": "stdout",
     "text": [
      "[['CC1=CC(=NC(=N1)NC2=CC=C(C=C2)N3CCOCC3)NC4=CC5=C(C=C4)OCO5', 1], ['CC(=O)NC1=CC=C(C=C1)NC2=NC(=NC3=CC(=C(C=C32)OC)OC)NC4=NC5=CC=CC=C5N4C', 1], ['COC1=CC=C(C=C1)CCNC2=C3C(=NC(=N2)NC4=CC=C(C=C4)N5CCOCC5)N(C=N3)CC6=CC=C(C=C6)C(F)(F)F', 1], ['CC1=CC(=NC(=N1)NC2=CC(=CC=C2)N(C)C)NCCC3=CC=C(C=C3)OC', 1], ['CC(=O)NC1=CC=C(C=C1)NC2=NC(=NC3=CC(=C(C=C32)OC)OC)NC4=NC=CC5=CC=CC=C54', 1], ['COC1=CC2=C(C=C1)OCC(C2)C(=O)NC3=C(C=C(C=C3)C4=CNN=C4)OCCOCC=C.C(=O)(C(F)(F)F)O', 1], ['CN1C2=CC=CC=C2N=C1NC3=NC4=CC(=C(C=C4C(=N3)NC5=CC=C(C=C5)N6CCOCC6)OC)OC', 1], ['COC1=C(C=C2C(=C1)C(=NC(=N2)NC3=CC=C(C=C3)N4CCOCC4)NC5=CC=C(C=C5)N6CCOCC6)OC', 1], ['CC1=CC(=NC(=N1)NC2=CC(=CC=C2)N(C)C)NC3=CC4=C(C=C3)OCO4', 1], ['C1COCCN1C2=CC=C(C=C2)NC3=NC(=C4C(=N3)N(C=N4)CC5=CC=C(C=C5)C(F)(F)F)NC6=CC7=C(C=C6)OCO7', 1], ['CC1=CN=C(N=C1NC2=CC(=C(C(=C2)OC)OC)OC)C3=CC=C(C=C3)C(=O)N', 1], ['CN(C)C1=CC=CC(=C1)NC2=NC3=CC(=C(C=C3C(=N2)NCCC4=CC=C(C=C4)OC)OC)OC', 1], ['CN(C)C1=CC=CC(=C1)NC2=NC3=CC(=C(C=C3C(=N2)NC4=CC5=C(C=C4)OCO5)OC)OC', 1], ['C[C@@]12[C@@H]([C@@H](C[C@@H](O1)N3C4=CC=CC=C4C5=C6C(=C7C8=CC=CC=C8N2C7=C53)CNC6=O)NC)OC.Cl', 1], ['CC1=CC(=NC(=N1)N2CCC3=CC=CC=C3C2)NC4=CC=C(C=C4)N5CCOCC5', 1], ['COC1=C(C=C2C(=C1)C(=NC(=N2)NC3=CC=C(C=C3)N4CCOCC4)NCCOC5=CC=CC=C5)OC', 1], ['CC1=CC(=NC(=N1)NC2=CC(=CC=C2)N(C)C)NCCOC3=CC=CC=C3', 1], ['C1CN(CCN1)C2=CC=C(C=C2)NC3=NC=C(C(=C3)N4C=NC(=N4)NC5=CC=CC=C5)F', 1], ['C1COCCN1C2=CC=C(C=C2)NC3=NC=CC(=C3)C4=NN(C(=C4)NC5=CC=CC=C5)CCC6=CC=CC=C6', 1], ['COC1=C(C=C2C(=C1)C(=NC(=N2)NC3=CC=C(C=C3)N4CCOCC4)NC5=CC=CC=C5)OC', 1]]\n"
     ]
    }
   ],
   "metadata": {}
  }
 ],
 "metadata": {
  "orig_nbformat": 4,
  "language_info": {
   "name": "python",
   "version": "3.6.13",
   "mimetype": "text/x-python",
   "codemirror_mode": {
    "name": "ipython",
    "version": 3
   },
   "pygments_lexer": "ipython3",
   "nbconvert_exporter": "python",
   "file_extension": ".py"
  },
  "kernelspec": {
   "name": "python3",
   "display_name": "Python 3.6.13 64-bit ('01_chemvae': conda)"
  },
  "interpreter": {
   "hash": "111b6f304afb9dfb3ff29c259c88395a47b4de97d591c8d68e14d97f5211ad2a"
  }
 },
 "nbformat": 4,
 "nbformat_minor": 2
}