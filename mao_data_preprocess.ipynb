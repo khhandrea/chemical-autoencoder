{
 "cells": [
  {
   "cell_type": "markdown",
   "source": [
    "## Setup"
   ],
   "metadata": {}
  },
  {
   "cell_type": "code",
   "execution_count": 27,
   "source": [
    "from rdkit.Chem import SDMolSupplier, MolToSmiles\r\n",
    "import pandas as pd"
   ],
   "outputs": [],
   "metadata": {}
  },
  {
   "cell_type": "markdown",
   "source": [
    "## Preprocess dataset"
   ],
   "metadata": {}
  },
  {
   "cell_type": "code",
   "execution_count": 40,
   "source": [
    "maoData = SDMolSupplier('data/mao/maoAct.sd')\r\n",
    "asinexData = SDMolSupplier('data/mao/newasinex.sd')\r\n",
    "count = 0\r\n",
    "active_mao_count = 0\r\n",
    "\r\n",
    "mao_smiles = []\r\n",
    "for mol in maoData:\r\n",
    "    if '.' in MolToSmiles(mol):\r\n",
    "        count += 1\r\n",
    "    else:\r\n",
    "        activity = 1 if int(mol.GetProp('Activity')) > 1 else 0\r\n",
    "        mao_smiles.append((MolToSmiles(mol), activity))\r\n",
    "        active_mao_count += activity\r\n",
    "pd.DataFrame(mao_smiles).to_csv('./data/mao/mao_smiles.csv')\r\n",
    "print('# of mao data :', len(maoData))\r\n",
    "print('# of valid mao data :', len(mao_smiles))\r\n",
    "print('# of invalid mao data :', count)\r\n",
    "print('# of valid active mao data :', active_mao_count)\r\n",
    "\r\n",
    "print()\r\n",
    "\r\n",
    "count = 0\r\n",
    "asinex_smiles = []\r\n",
    "for mol in asinexData:\r\n",
    "    if mol == None:\r\n",
    "        count += 1\r\n",
    "    elif '.' in MolToSmiles(mol):\r\n",
    "        count += 1\r\n",
    "    else:\r\n",
    "        asinex_smiles.append((MolToSmiles(mol), 0))\r\n",
    "pd.DataFrame(asinex_smiles).to_csv('./data/mao/asinex_smiles.csv')\r\n",
    "print('# of asinex data :', len(asinexData))\r\n",
    "print('# of valid data :', len(asinexData) - count)\r\n",
    "print('# of valid data :', len(asinex_smiles))\r\n",
    "print('# of inavlid data :', count)\r\n"
   ],
   "outputs": [
    {
     "output_type": "stream",
     "name": "stdout",
     "text": [
      "# of mao data : 1650\n",
      "# of valid mao data : 1182\n",
      "# of invalid mao data : 468\n",
      "# of valid active mao data : 102\n",
      "\n",
      "# of asinex data : 137799\n",
      "# of valid data : 137735\n",
      "# of valid data : 137735\n",
      "# of inavlid data : 64\n"
     ]
    }
   ],
   "metadata": {}
  },
  {
   "cell_type": "code",
   "execution_count": 41,
   "source": [
    "max_len = 0\r\n",
    "for mol in mao_smiles:\r\n",
    "    max_len = max(len(mol[0]), max_len)\r\n",
    "print('max len in mao :', max_len)\r\n",
    "\r\n",
    "max_len = 0\r\n",
    "for mol in asinex_smiles:\r\n",
    "    max_len = max(len(mol[0]), max_len)\r\n",
    "print('max len in asinex :', max_len)"
   ],
   "outputs": [
    {
     "output_type": "stream",
     "name": "stdout",
     "text": [
      "max len in mao : 122\n",
      "max len in asinex : 241\n"
     ]
    }
   ],
   "metadata": {}
  }
 ],
 "metadata": {
  "orig_nbformat": 4,
  "language_info": {
   "name": "python",
   "version": "3.6.13",
   "mimetype": "text/x-python",
   "codemirror_mode": {
    "name": "ipython",
    "version": 3
   },
   "pygments_lexer": "ipython3",
   "nbconvert_exporter": "python",
   "file_extension": ".py"
  },
  "kernelspec": {
   "name": "python3",
   "display_name": "Python 3.6.13 64-bit ('01_chemvae': conda)"
  },
  "interpreter": {
   "hash": "111b6f304afb9dfb3ff29c259c88395a47b4de97d591c8d68e14d97f5211ad2a"
  }
 },
 "nbformat": 4,
 "nbformat_minor": 2
}