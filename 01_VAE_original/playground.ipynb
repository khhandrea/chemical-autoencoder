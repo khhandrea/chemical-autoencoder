{
 "cells": [
  {
   "cell_type": "markdown",
   "source": [
    "## Load libraries"
   ],
   "metadata": {}
  },
  {
   "cell_type": "code",
   "execution_count": 1,
   "source": [
    "# tensorflow backend\r\n",
    "print('tensorflow backend')\r\n",
    "from os import environ\r\n",
    "environ['KERAS_BACKEND'] = 'tensorflow'\r\n",
    "# vae stuff\r\n",
    "print('vae stuff')\r\n",
    "from chemvae.vae_utils import VAEUtils\r\n",
    "from chemvae import mol_utils as mu\r\n",
    "# import scientific py\r\n",
    "print('iport scientific py')\r\n",
    "import numpy as np\r\n",
    "import pandas as pd\r\n",
    "# rdkit stuff\r\n",
    "print('rdkit stuff')\r\n",
    "from rdkit.Chem import AllChem as Chem\r\n",
    "from rdkit.Chem import PandasTools\r\n",
    "# plotting stuff\r\n",
    "print('plotting stuff')\r\n",
    "import matplotlib.pyplot as plt\r\n",
    "import matplotlib as mpl\r\n",
    "from IPython.display import SVG, display\r\n",
    "%config InlineBackend.figure_format = 'retina'\r\n",
    "%matplotlib inline\r\n",
    "\r\n",
    "from sklearn.datasets import load_digits\r\n",
    "from sklearn.decomposition import PCA\r\n",
    "from sklearn.manifold import TSNE\r\n",
    "from sklearn.discriminant_analysis import LinearDiscriminantAnalysis as LDA\r\n",
    "import matplotlib.pyplot as plt\r\n",
    "import numpy as np "
   ],
   "outputs": [
    {
     "output_type": "stream",
     "name": "stdout",
     "text": [
      "tensorflow backend\n",
      "vae stuff\n"
     ]
    },
    {
     "output_type": "stream",
     "name": "stderr",
     "text": [
      "Using TensorFlow backend.\n",
      "C:\\Users\\PC\\.conda\\envs\\01_chemvae\\lib\\site-packages\\tensorflow\\python\\framework\\dtypes.py:523: FutureWarning: Passing (type, 1) or '1type' as a synonym of type is deprecated; in a future version of numpy, it will be understood as (type, (1,)) / '(1,)type'.\n",
      "  _np_qint8 = np.dtype([(\"qint8\", np.int8, 1)])\n",
      "C:\\Users\\PC\\.conda\\envs\\01_chemvae\\lib\\site-packages\\tensorflow\\python\\framework\\dtypes.py:524: FutureWarning: Passing (type, 1) or '1type' as a synonym of type is deprecated; in a future version of numpy, it will be understood as (type, (1,)) / '(1,)type'.\n",
      "  _np_quint8 = np.dtype([(\"quint8\", np.uint8, 1)])\n",
      "C:\\Users\\PC\\.conda\\envs\\01_chemvae\\lib\\site-packages\\tensorflow\\python\\framework\\dtypes.py:525: FutureWarning: Passing (type, 1) or '1type' as a synonym of type is deprecated; in a future version of numpy, it will be understood as (type, (1,)) / '(1,)type'.\n",
      "  _np_qint16 = np.dtype([(\"qint16\", np.int16, 1)])\n",
      "C:\\Users\\PC\\.conda\\envs\\01_chemvae\\lib\\site-packages\\tensorflow\\python\\framework\\dtypes.py:526: FutureWarning: Passing (type, 1) or '1type' as a synonym of type is deprecated; in a future version of numpy, it will be understood as (type, (1,)) / '(1,)type'.\n",
      "  _np_quint16 = np.dtype([(\"quint16\", np.uint16, 1)])\n",
      "C:\\Users\\PC\\.conda\\envs\\01_chemvae\\lib\\site-packages\\tensorflow\\python\\framework\\dtypes.py:527: FutureWarning: Passing (type, 1) or '1type' as a synonym of type is deprecated; in a future version of numpy, it will be understood as (type, (1,)) / '(1,)type'.\n",
      "  _np_qint32 = np.dtype([(\"qint32\", np.int32, 1)])\n",
      "C:\\Users\\PC\\.conda\\envs\\01_chemvae\\lib\\site-packages\\tensorflow\\python\\framework\\dtypes.py:532: FutureWarning: Passing (type, 1) or '1type' as a synonym of type is deprecated; in a future version of numpy, it will be understood as (type, (1,)) / '(1,)type'.\n",
      "  np_resource = np.dtype([(\"resource\", np.ubyte, 1)])\n"
     ]
    },
    {
     "output_type": "stream",
     "name": "stdout",
     "text": [
      "iport scientific py\n",
      "rdkit stuff\n",
      "plotting stuff\n"
     ]
    }
   ],
   "metadata": {}
  },
  {
   "cell_type": "markdown",
   "source": [
    "## Load a model"
   ],
   "metadata": {}
  },
  {
   "cell_type": "code",
   "execution_count": 2,
   "source": [
    "vae = VAEUtils(directory='models/zinc_properties')"
   ],
   "outputs": [
    {
     "output_type": "stream",
     "name": "stderr",
     "text": [
      "From C:\\Users\\PC\\.conda\\envs\\01_chemvae\\lib\\site-packages\\keras\\backend\\tensorflow_backend.py:1210: calling reduce_prod (from tensorflow.python.ops.math_ops) with keep_dims is deprecated and will be removed in a future version.\n",
      "Instructions for updating:\n",
      "keep_dims is deprecated, use keepdims instead\n",
      "C:\\Users\\PC\\.conda\\envs\\01_chemvae\\lib\\site-packages\\keras\\models.py:245: UserWarning: No training configuration found in save file: the model was *not* compiled. Compile it manually.\n",
      "  warnings.warn('No training configuration found in save file: '\n",
      "From C:\\Users\\PC\\.conda\\envs\\01_chemvae\\lib\\site-packages\\keras\\backend\\tensorflow_backend.py:1192: calling reduce_sum (from tensorflow.python.ops.math_ops) with keep_dims is deprecated and will be removed in a future version.\n",
      "Instructions for updating:\n",
      "keep_dims is deprecated, use keepdims instead\n",
      "From C:\\Users\\PC\\.conda\\envs\\01_chemvae\\lib\\site-packages\\keras\\backend\\tensorflow_backend.py:1156: calling reduce_max (from tensorflow.python.ops.math_ops) with keep_dims is deprecated and will be removed in a future version.\n",
      "Instructions for updating:\n",
      "keep_dims is deprecated, use keepdims instead\n"
     ]
    },
    {
     "output_type": "stream",
     "name": "stdout",
     "text": [
      "Using standarized functions? True\n",
      "Standarization: estimating mu and std values ...done!\n"
     ]
    }
   ],
   "metadata": {}
  },
  {
   "cell_type": "markdown",
   "source": [
    "## Decode several attempts"
   ],
   "metadata": {}
  },
  {
   "cell_type": "code",
   "execution_count": 49,
   "source": [
    "def add_similars(smiles_in, index):\r\n",
    "    smiles = mu.canon_smiles(smiles_in)\r\n",
    "    X_1 = vae.smiles_to_hot(smiles, canonize_smiles=True)\r\n",
    "    Z_1 = vae.encode(X_1)[0]\r\n",
    "    noise=4.0\r\n",
    "    print('Searching molecules randomly sampled from {:.2f} std (z-distance) from the point...'.format(noise))\r\n",
    "    df = vae.z_to_smiles( Z_1,decode_attempts=100,noise_norm=noise )\r\n",
    "    print('Found {:d} unique mols, out of {:d}'.format(len(set(df['smiles'])),sum(df['count'])))\r\n",
    "    Xs = [ vae.smiles_to_hot(mol, canonize_smiles=True) for mol in list(set(df['smiles'])) ]\r\n",
    "    Zs = [ vae.encode(X)[0] for X in Xs ]\r\n",
    "    group.extend(list(zip(Zs, np.full(len(Zs), index))))"
   ],
   "outputs": [],
   "metadata": {}
  },
  {
   "cell_type": "markdown",
   "source": [
    "## Clustering Samples"
   ],
   "metadata": {}
  },
  {
   "cell_type": "code",
   "execution_count": 50,
   "source": [
    "group = []\r\n",
    "add_similars('N[C@@H](CC1=CNC=N1)C(O)=O', 0)\r\n",
    "add_similars('c1ccccc1', 1)\r\n",
    "add_similars('NCCC[C@H](N)C(O)=O', 2)\r\n",
    "add_similars('N[C@@H](CO)C(O)=O', 3)\r\n",
    "add_similars('OC(=O)CCC(O)=O', 4)"
   ],
   "outputs": [
    {
     "output_type": "stream",
     "name": "stdout",
     "text": [
      "Searching molecules randomly sampled from 4.00 std (z-distance) from the point...\n",
      "Found 9 unique mols, out of 58\n",
      "Searching molecules randomly sampled from 4.00 std (z-distance) from the point...\n",
      "Found 19 unique mols, out of 47\n",
      "Searching molecules randomly sampled from 4.00 std (z-distance) from the point...\n",
      "Found 9 unique mols, out of 30\n",
      "Searching molecules randomly sampled from 4.00 std (z-distance) from the point...\n",
      "Found 6 unique mols, out of 88\n",
      "Searching molecules randomly sampled from 4.00 std (z-distance) from the point...\n",
      "Found 26 unique mols, out of 40\n"
     ]
    }
   ],
   "metadata": {}
  },
  {
   "cell_type": "markdown",
   "source": [
    "## Build DimReduction Model"
   ],
   "metadata": {}
  },
  {
   "cell_type": "code",
   "execution_count": 51,
   "source": [
    "n_components = 2\r\n",
    "model_pca = PCA(n_components=n_components)\r\n",
    "model_tsne = TSNE(n_components=n_components)"
   ],
   "outputs": [],
   "metadata": {}
  },
  {
   "cell_type": "code",
   "execution_count": 60,
   "source": [
    "points_tsne = model_tsne.fit_transform([ points[0] for points in group ])"
   ],
   "outputs": [],
   "metadata": {}
  },
  {
   "cell_type": "markdown",
   "source": [
    "## Visualize the data"
   ],
   "metadata": {}
  },
  {
   "cell_type": "code",
   "execution_count": 64,
   "source": [
    "x1 = [ point[0] for point in points_tsne ]\r\n",
    "y1 = [ point[1] for point in points_tsne ]\r\n",
    "target1 = [ item[1] for item in group ]\r\n",
    "\r\n",
    "cmap = plt.cm.get_cmap('rainbow', 10)\r\n",
    "plt.scatter(x1, y1, c=target1, cmap=cmap)\r\n",
    "plt.colorbar()"
   ],
   "outputs": [
    {
     "output_type": "execute_result",
     "data": {
      "text/plain": [
       "<matplotlib.colorbar.Colorbar at 0x1ed4f966940>"
      ]
     },
     "metadata": {},
     "execution_count": 64
    },
    {
     "output_type": "display_data",
     "data": {
      "text/plain": [
       "<Figure size 432x288 with 2 Axes>"
      ],
      "image/png": "[encoded data removed]"
     },
     "metadata": {
      "image/png": {
       "width": 367,
       "height": 252
      },
      "needs_background": "light"
     }
    }
   ],
   "metadata": {}
  },
  {
   "cell_type": "code",
   "execution_count": null,
   "source": [
    "list(range(2, 2))"
   ],
   "outputs": [],
   "metadata": {}
  }
 ],
 "metadata": {
  "orig_nbformat": 4,
  "language_info": {
   "name": "python",
   "version": "3.6.13",
   "mimetype": "text/x-python",
   "codemirror_mode": {
    "name": "ipython",
    "version": 3
   },
   "pygments_lexer": "ipython3",
   "nbconvert_exporter": "python",
   "file_extension": ".py"
  },
  "kernelspec": {
   "name": "python3",
   "display_name": "Python 3.6.13 64-bit ('01_chemvae': conda)"
  },
  "interpreter": {
   "hash": "111b6f304afb9dfb3ff29c259c88395a47b4de97d591c8d68e14d97f5211ad2a"
  }
 },
 "nbformat": 4,
 "nbformat_minor": 2
}