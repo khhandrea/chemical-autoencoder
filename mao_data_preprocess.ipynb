{
 "cells": [
  {
   "cell_type": "code",
   "execution_count": 2,
   "source": [
    "from rdkit import Chem"
   ],
   "outputs": [],
   "metadata": {}
  },
  {
   "cell_type": "code",
   "execution_count": 9,
   "source": [
    "maoData = Chem.SDMolSupplier('data/mao/maoAct.sd')\r\n",
    "asinexData = Chem.SDMolSupplier('data/mao/newasinex.sd')\r\n",
    "count = 0\r\n",
    "for i, mol in enumerate(maoData):\r\n",
    "    if '.' in Chem.MolToSmiles(mol):\r\n",
    "        count += 1\r\n",
    "print('# of maoData :', len(maoData))\r\n",
    "print('invalid target :', count)\r\n",
    "print('# of asinexData :', len(asinexData))\r\n",
    "# for i, mol in enumerate(asinexData):\r\n",
    "#     print(i+1, Chem.MolToSmiles(mol))\r\n"
   ],
   "outputs": [
    {
     "output_type": "stream",
     "name": "stdout",
     "text": [
      "# of maoData : 1650\n",
      "invalid target : 468\n",
      "# of asinexData : 137799\n"
     ]
    }
   ],
   "metadata": {}
  }
 ],
 "metadata": {
  "orig_nbformat": 4,
  "language_info": {
   "name": "python",
   "version": "3.6.13",
   "mimetype": "text/x-python",
   "codemirror_mode": {
    "name": "ipython",
    "version": 3
   },
   "pygments_lexer": "ipython3",
   "nbconvert_exporter": "python",
   "file_extension": ".py"
  },
  "kernelspec": {
   "name": "python3",
   "display_name": "Python 3.6.13 64-bit ('01_chemvae': conda)"
  },
  "interpreter": {
   "hash": "111b6f304afb9dfb3ff29c259c88395a47b4de97d591c8d68e14d97f5211ad2a"
  }
 },
 "nbformat": 4,
 "nbformat_minor": 2
}