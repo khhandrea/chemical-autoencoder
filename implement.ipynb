{
 "cells": [
  {
   "cell_type": "markdown",
   "source": [
    "## Setup proejct"
   ],
   "metadata": {}
  },
  {
   "cell_type": "code",
   "execution_count": 18,
   "source": [
    "import os\r\n",
    "project = input('input project name ')\r\n",
    "directory = './' + project\r\n",
    "try:\r\n",
    "    if not os.path.exists(directory):\r\n",
    "        os.makedirs(directory)\r\n",
    "        os.makedirs(directory + '/data')\r\n",
    "        print('project created :', project)\r\n",
    "    else:\r\n",
    "        print('project with the same name already exists :', project)\r\n",
    "except OSError:\r\n",
    "    print('Error : Creating directory', directory)"
   ],
   "outputs": [
    {
     "output_type": "stream",
     "name": "stdout",
     "text": [
      "project created : test\n"
     ]
    }
   ],
   "metadata": {}
  },
  {
   "cell_type": "markdown",
   "source": [
    "## (option 1) Fetch several data from *.sd"
   ],
   "metadata": {}
  },
  {
   "cell_type": "code",
   "execution_count": 65,
   "source": [
    "# from implements.fetcher import fetch_sd\r\n",
    "\r\n",
    "# number = int(input('enter a number of data')) \r\n",
    "# print(dir(fetcher))\r\n",
    "# # fetcher.fetch_sd(project, number)"
   ],
   "outputs": [
    {
     "output_type": "stream",
     "name": "stdout",
     "text": [
      "['__builtins__', '__cached__', '__doc__', '__file__', '__loader__', '__name__', '__package__', '__spec__']\n"
     ]
    }
   ],
   "metadata": {}
  },
  {
   "cell_type": "markdown",
   "source": [
    "## (option 2) Fetch data from *.csv\r\n",
    "* need 'smiles.csv' with columns 'smiles, label'"
   ],
   "metadata": {}
  },
  {
   "cell_type": "code",
   "execution_count": null,
   "source": [
    "# from implements.fetcher import fetch_csv\r\n",
    "#\r\n",
    "# fetch_csv(project)"
   ],
   "outputs": [],
   "metadata": {}
  },
  {
   "cell_type": "markdown",
   "source": [
    "## Encode molecules to latent space & fingerprints"
   ],
   "metadata": {}
  },
  {
   "cell_type": "code",
   "execution_count": null,
   "source": [
    "# from implements.encoder import encode_latent_space\r\n",
    "# from implements.encoder import encode_fingerprints\r\n",
    "#\r\n",
    "# encode_latent_space(project)\r\n",
    "# encode_fingerprints(project)"
   ],
   "outputs": [],
   "metadata": {}
  },
  {
   "cell_type": "markdown",
   "source": [
    "## Fetch external latent space & fingerprints\r\n",
    "* need 'external_points_latent_space.csv' or 'external_points_(fingerprint)_fp_csv'"
   ],
   "metadata": {}
  },
  {
   "cell_type": "code",
   "execution_count": null,
   "source": [
    "# from implements.fetcher import fetch_latent_space\r\n",
    "# from implements.fetcher import fetch_fingerprints\r\n",
    "#\r\n",
    "# fetch_latent_space(project)\r\n",
    "# fetch_latent_fingerprints(project)"
   ],
   "outputs": [],
   "metadata": {}
  },
  {
   "cell_type": "markdown",
   "source": [
    "## Check GPU"
   ],
   "metadata": {}
  },
  {
   "cell_type": "code",
   "execution_count": 22,
   "source": [
    "# from tensorflow.python.client import device_lib\r\n",
    "# print(device_lib.list_local_devices())"
   ],
   "outputs": [
    {
     "output_type": "stream",
     "name": "stdout",
     "text": [
      "[name: \"/device:CPU:0\"\n",
      "device_type: \"CPU\"\n",
      "memory_limit: 268435456\n",
      "locality {\n",
      "}\n",
      "incarnation: 5433811192048871964\n",
      "]\n"
     ]
    }
   ],
   "metadata": {}
  },
  {
   "cell_type": "markdown",
   "source": [
    "##  tSNE & PCA"
   ],
   "metadata": {}
  },
  {
   "cell_type": "code",
   "execution_count": 14,
   "source": [
    "# from implements.encoder import learn_tsne_pca\r\n",
    "#\r\n",
    "# learn_tsne_pca(project)"
   ],
   "outputs": [],
   "metadata": {}
  },
  {
   "cell_type": "markdown",
   "source": [
    "## Plot molecules"
   ],
   "metadata": {}
  },
  {
   "cell_type": "code",
   "execution_count": null,
   "source": [
    "# from implements.plotter import plot_molecules\r\n",
    "#\r\n",
    "# plot_molecules(project)"
   ],
   "outputs": [],
   "metadata": {}
  },
  {
   "cell_type": "markdown",
   "source": [
    "## Select and cluster the molecules"
   ],
   "metadata": {}
  },
  {
   "cell_type": "code",
   "execution_count": null,
   "source": [
    "# from implements.plotter import cluster, plot, display, export\r\n",
    "#\r\n",
    "# sel = input('select graph to be clustered')\r\n",
    "# clustered = cluster(project, sel) # cluster, plot, display"
   ],
   "outputs": [],
   "metadata": {}
  },
  {
   "cell_type": "markdown",
   "source": [
    "## Export the molecules"
   ],
   "metadata": {}
  },
  {
   "cell_type": "code",
   "execution_count": null,
   "source": [
    "# from implements.plotter import export_molecules\r\n",
    "#\r\n",
    "# sel = list(map(int, input('enter label numbers to export').split(' ')))\r\n",
    "# export_molecules(project, clustered, sel)"
   ],
   "outputs": [],
   "metadata": {}
  }
 ],
 "metadata": {
  "orig_nbformat": 4,
  "language_info": {
   "name": "python",
   "version": "3.6.13",
   "mimetype": "text/x-python",
   "codemirror_mode": {
    "name": "ipython",
    "version": 3
   },
   "pygments_lexer": "ipython3",
   "nbconvert_exporter": "python",
   "file_extension": ".py"
  },
  "kernelspec": {
   "name": "python3",
   "display_name": "Python 3.6.13 64-bit ('01_chemvae': conda)"
  },
  "interpreter": {
   "hash": "111b6f304afb9dfb3ff29c259c88395a47b4de97d591c8d68e14d97f5211ad2a"
  }
 },
 "nbformat": 4,
 "nbformat_minor": 2
}